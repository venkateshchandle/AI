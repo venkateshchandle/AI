{
  "nbformat": 4,
  "nbformat_minor": 0,
  "metadata": {
    "colab": {
      "provenance": [],
      "authorship_tag": "ABX9TyM4gtXxpxvZlV/HKpyCNK4V",
      "include_colab_link": true
    },
    "kernelspec": {
      "name": "python3",
      "display_name": "Python 3"
    },
    "language_info": {
      "name": "python"
    }
  },
  "cells": [
    {
      "cell_type": "markdown",
      "metadata": {
        "id": "view-in-github",
        "colab_type": "text"
      },
      "source": [
        "<a href=\"https://colab.research.google.com/github/venkateshchandle/AI/blob/main/forward_reasoning_venkatesh.ipynb\" target=\"_parent\"><img src=\"https://colab.research.google.com/assets/colab-badge.svg\" alt=\"Open In Colab\"/></a>"
      ]
    },
    {
      "cell_type": "code",
      "execution_count": 1,
      "metadata": {
        "colab": {
          "base_uri": "https://localhost:8080/"
        },
        "id": "OQC2S-6bmmUF",
        "outputId": "7a45528a-c9f2-4d24-c472-6987c8043455"
      },
      "outputs": [
        {
          "output_type": "stream",
          "name": "stdout",
          "text": [
            "Initial agenda: ['American(Robert)', 'Missile(T1)', 'Owns(A, T1)', 'Enemy(A, America)', 'Sells(Robert, T1, A)']\n",
            "Initial inferred: set()\n",
            "\n",
            "Processing fact: American(Robert)\n",
            "Inferred facts: {'American(Robert)'}\n",
            "Rule premise satisfied: ['American(Robert)', 'Weapon(T1)', 'Sells(Robert, T1, A)', 'Hostile(A)'] -> Criminal(Robert)\n",
            "Current agenda: ['Missile(T1)', 'Owns(A, T1)', 'Enemy(A, America)', 'Sells(Robert, T1, A)']\n",
            "Current inferred: {'American(Robert)'}\n",
            "\n",
            "Processing fact: Missile(T1)\n",
            "Inferred facts: {'American(Robert)', 'Missile(T1)'}\n",
            "Rule premise satisfied: ['Missile(T1)'] -> Weapon(T1)\n",
            "New fact inferred: Weapon(T1)\n",
            "Current agenda: ['Owns(A, T1)', 'Enemy(A, America)', 'Sells(Robert, T1, A)', 'Weapon(T1)']\n",
            "Current inferred: {'American(Robert)', 'Missile(T1)'}\n",
            "\n",
            "Processing fact: Owns(A, T1)\n",
            "Inferred facts: {'American(Robert)', 'Owns(A, T1)', 'Missile(T1)'}\n",
            "Rule premise satisfied: ['Owns(A, T1)', 'Enemy(A, America)'] -> Hostile(A)\n",
            "Current agenda: ['Enemy(A, America)', 'Sells(Robert, T1, A)', 'Weapon(T1)']\n",
            "Current inferred: {'American(Robert)', 'Owns(A, T1)', 'Missile(T1)'}\n",
            "\n",
            "Processing fact: Enemy(A, America)\n",
            "Inferred facts: {'American(Robert)', 'Owns(A, T1)', 'Enemy(A, America)', 'Missile(T1)'}\n",
            "Rule premise satisfied: ['Enemy(A, America)'] -> Hostile(A)\n",
            "New fact inferred: Hostile(A)\n",
            "Current agenda: ['Sells(Robert, T1, A)', 'Weapon(T1)', 'Hostile(A)']\n",
            "Current inferred: {'American(Robert)', 'Owns(A, T1)', 'Enemy(A, America)', 'Missile(T1)'}\n",
            "\n",
            "Processing fact: Sells(Robert, T1, A)\n",
            "Inferred facts: {'American(Robert)', 'Owns(A, T1)', 'Missile(T1)', 'Enemy(A, America)', 'Sells(Robert, T1, A)'}\n",
            "Rule premise satisfied: ['Weapon(T1)', 'Sells(Robert, T1, A)', 'Hostile(A)'] -> Criminal(Robert)\n",
            "Current agenda: ['Weapon(T1)', 'Hostile(A)']\n",
            "Current inferred: {'American(Robert)', 'Owns(A, T1)', 'Missile(T1)', 'Enemy(A, America)', 'Sells(Robert, T1, A)'}\n",
            "\n",
            "Processing fact: Weapon(T1)\n",
            "Inferred facts: {'American(Robert)', 'Weapon(T1)', 'Owns(A, T1)', 'Missile(T1)', 'Enemy(A, America)', 'Sells(Robert, T1, A)'}\n",
            "Rule premise satisfied: ['Weapon(T1)', 'Hostile(A)'] -> Criminal(Robert)\n",
            "Current agenda: ['Hostile(A)']\n",
            "Current inferred: {'American(Robert)', 'Weapon(T1)', 'Owns(A, T1)', 'Missile(T1)', 'Enemy(A, America)', 'Sells(Robert, T1, A)'}\n",
            "\n",
            "Processing fact: Hostile(A)\n",
            "Inferred facts: {'American(Robert)', 'Hostile(A)', 'Weapon(T1)', 'Owns(A, T1)', 'Missile(T1)', 'Enemy(A, America)', 'Sells(Robert, T1, A)'}\n",
            "Rule premise satisfied: ['Hostile(A)'] -> Criminal(Robert)\n",
            "New fact inferred: Criminal(Robert)\n",
            "Current agenda: ['Criminal(Robert)']\n",
            "Current inferred: {'American(Robert)', 'Hostile(A)', 'Weapon(T1)', 'Owns(A, T1)', 'Missile(T1)', 'Enemy(A, America)', 'Sells(Robert, T1, A)'}\n",
            "\n",
            "Processing fact: Criminal(Robert)\n",
            "Found query match: Criminal(Robert)\n",
            "\n",
            "Final Result: True\n"
          ]
        }
      ],
      "source": [
        "\n",
        "def fol_fc_ask(KB, query):\n",
        "    \"\"\"\n",
        "    Implements the Forward Chaining algorithm.\n",
        "    :param KB: The knowledge base, a list of first-order definite clauses.\n",
        "    :param query: The query, an atomic sentence.\n",
        "    :return: True if the query can be proven, otherwise False.\n",
        "    \"\"\"\n",
        "    inferred = set()  # Keep track of inferred facts\n",
        "    agenda = [fact for fact in KB if not fact.get('premises')]  # Initial facts\n",
        "    rules = [rule for rule in KB if rule.get('premises')]  # Rules with premises\n",
        "\n",
        "    # Debugging output: Initial agenda and inferred facts\n",
        "    print(f\"Initial agenda: {[fact['conclusion'] for fact in agenda]}\")\n",
        "    print(f\"Initial inferred: {inferred}\")\n",
        "\n",
        "    while agenda:\n",
        "        fact = agenda.pop(0)\n",
        "        print(f\"\\nProcessing fact: {fact['conclusion']}\")\n",
        "\n",
        "        # Check if this fact matches the query\n",
        "        if fact['conclusion'] == query:\n",
        "            print(f\"Found query match: {fact['conclusion']}\")\n",
        "            return True\n",
        "\n",
        "        # Infer new facts if this fact hasn't been inferred before\n",
        "        if fact['conclusion'] not in inferred:\n",
        "            inferred.add(fact['conclusion'])\n",
        "            print(f\"Inferred facts: {inferred}\")\n",
        "\n",
        "            # Process rules that match this fact as a premise\n",
        "            for rule in rules:\n",
        "                if fact['conclusion'] in rule['premises']:\n",
        "                    print(f\"Rule premise satisfied: {rule['premises']} -> {rule['conclusion']}\")\n",
        "                    rule['premises'].remove(fact['conclusion'])  # Remove satisfied premise\n",
        "                    if not rule['premises']:  # All premises satisfied\n",
        "                        new_fact = {'conclusion': rule['conclusion']}\n",
        "                        agenda.append(new_fact)  # Add new fact to agenda\n",
        "                        print(f\"New fact inferred: {new_fact['conclusion']}\")\n",
        "\n",
        "        # Debugging output after each iteration\n",
        "        print(f\"Current agenda: {[fact['conclusion'] for fact in agenda]}\")\n",
        "        print(f\"Current inferred: {inferred}\")\n",
        "\n",
        "    # If the loop finishes without finding the query\n",
        "    print(f\"Query {query} not found.\")\n",
        "    return False\n",
        "\n",
        "\n",
        "# Example Knowledge Base\n",
        "KB = [\n",
        "    {'premises': [], 'conclusion': 'American(Robert)'},\n",
        "    {'premises': [], 'conclusion': 'Missile(T1)'},\n",
        "    {'premises': [], 'conclusion': 'Owns(A, T1)'},\n",
        "    {'premises': [], 'conclusion': 'Enemy(A, America)'},\n",
        "    {'premises': ['Missile(T1)'], 'conclusion': 'Weapon(T1)'},\n",
        "    {'premises': ['American(Robert)', 'Weapon(T1)', 'Sells(Robert, T1, A)', 'Hostile(A)'], 'conclusion': 'Criminal(Robert)'},\n",
        "    {'premises': ['Owns(A, T1)', 'Enemy(A, America)'], 'conclusion': 'Hostile(A)'},\n",
        "    {'premises': [], 'conclusion': 'Sells(Robert, T1, A)'}\n",
        "]\n",
        "\n",
        "# Query\n",
        "query = 'Criminal(Robert)'\n",
        "\n",
        "# Run the algorithm\n",
        "result = fol_fc_ask(KB, query)\n",
        "print(\"\\nFinal Result:\", result)\n"
      ]
    },
    {
      "cell_type": "code",
      "source": [],
      "metadata": {
        "id": "udxpL0KQoz3d"
      },
      "execution_count": null,
      "outputs": []
    }
  ]
}